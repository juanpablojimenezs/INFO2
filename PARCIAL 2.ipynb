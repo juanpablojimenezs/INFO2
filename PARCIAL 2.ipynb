{
 "cells": [
  {
   "cell_type": "code",
   "execution_count": 25,
   "id": "ba96c5cb",
   "metadata": {},
   "outputs": [
    {
     "data": {
      "text/plain": [
       "array([['.', '#', '.', '#', '.', '#', '.', '#'],\n",
       "       ['#', '.', '#', '.', '#', '.', '#', '.'],\n",
       "       ['.', '#', '.', '#', '.', '#', '.', '#'],\n",
       "       ['#', '.', '#', '.', '#', '.', '#', '.'],\n",
       "       ['.', '#', '.', '#', '.', '#', '.', '#'],\n",
       "       ['#', '.', '#', '.', '#', '.', '#', '.'],\n",
       "       ['.', '#', '.', '#', '.', '#', '.', '#'],\n",
       "       ['#', '.', '#', '.', '#', '.', '#', '.']], dtype='<U1')"
      ]
     },
     "execution_count": 25,
     "metadata": {},
     "output_type": "execute_result"
    }
   ],
   "source": [
    "import numpy as np\n",
    "\n",
    "a =np.full((8,8), \".\")\n",
    "a[1::2,::2]=\"#\"         \n",
    "a[::2,1::2]=\"#\"\n",
    "a"
   ]
  },
  {
   "cell_type": "code",
   "execution_count": 7,
   "id": "5a840332",
   "metadata": {},
   "outputs": [
    {
     "name": "stdout",
     "output_type": "stream",
     "text": [
      "Indique tamañano de la matriz cuadrada5\n"
     ]
    },
    {
     "data": {
      "text/plain": [
       "array([['0', '0', '1', '0', '0'],\n",
       "       ['0', '0', '1', '0', '0'],\n",
       "       ['1', '1', '1', '1', '1'],\n",
       "       ['0', '0', '1', '0', '0'],\n",
       "       ['0', '0', '1', '0', '0']], dtype='<U1')"
      ]
     },
     "execution_count": 7,
     "metadata": {},
     "output_type": "execute_result"
    }
   ],
   "source": [
    "import numpy as np\n",
    "x=int(input(\"Indique tamañano de la matriz cuadrada\"))\n",
    "def generar_matriz_cruz(x):\n",
    "    a=np.full((x,x),\"0\")\n",
    "    b=int(x/2)\n",
    "    a[b,:]=\"1\"  \n",
    "    a[:,b]=\"1\"\n",
    "    return a\n",
    "generar_matriz_cruz(x)"
   ]
  },
  {
   "cell_type": "code",
   "execution_count": 9,
   "id": "15128d58",
   "metadata": {},
   "outputs": [
    {
     "name": "stdout",
     "output_type": "stream",
     "text": [
      "Indique el tamaño de la matiz cuadrada10\n"
     ]
    },
    {
     "data": {
      "text/plain": [
       "array([['3', '0', '0', '0', '0', '0', '0', '0', '0', '0'],\n",
       "       ['0', '6', '0', '0', '0', '0', '0', '0', '0', '0'],\n",
       "       ['0', '0', '6', '0', '0', '0', '0', '0', '0', '0'],\n",
       "       ['0', '0', '0', '7', '0', '0', '0', '0', '0', '0'],\n",
       "       ['0', '0', '0', '0', '3', '0', '0', '0', '0', '0'],\n",
       "       ['0', '0', '0', '0', '0', '6', '0', '0', '0', '0'],\n",
       "       ['0', '0', '0', '0', '0', '0', '6', '0', '0', '0'],\n",
       "       ['0', '0', '0', '0', '0', '0', '0', '7', '0', '0'],\n",
       "       ['0', '0', '0', '0', '0', '0', '0', '0', '3', '0'],\n",
       "       ['0', '0', '0', '0', '0', '0', '0', '0', '0', '6']], dtype='<U1')"
      ]
     },
     "execution_count": 9,
     "metadata": {},
     "output_type": "execute_result"
    }
   ],
   "source": [
    "import numpy as np\n",
    "valores=np.random.randint(1,100 ,size=x)\n",
    "x=int(input(\"Indique el tamaño de la matiz cuadrada\"))\n",
    "def crear_matriz_diagonal(x,valores):\n",
    "    a=np.full((x,x),\"0\")\n",
    "    np.fill_diagonal(a,valores )\n",
    "    return a\n",
    "crear_matriz_diagonal(x,valores)\n"
   ]
  },
  {
   "cell_type": "code",
   "execution_count": null,
   "id": "3689204d",
   "metadata": {},
   "outputs": [],
   "source": [
    "import scipy.io as sio\n",
    "import matplotlib.pyplot as plt\n",
    "import numpy as np\n",
    "leer_archivo=sio.loadmat(archivo)\n",
    "señal=leer_archivo['data']\n",
    "señal_continua = np.reshape(señal,(señal.shape[0],señal.shape[1]*señal.shape[2]),order = 'F')\n",
    "valor_maximo = np.max(senal_continua[sensor,:])\n",
    "indice_maximo = np.argmax(senal_continua[sensor,:])\n",
    "fig , (ax1,ax2) = plt.subplots(1,2,figsize=12,5)\n",
    "ax1.plot(senal_continua[sensor,:])\n",
    "ax1.set_xlabel('Tiempo')\n",
    "ax1.set_ylabel('Amplitud')\n",
    "ax1.set_title('Señal')\n",
    "ax1.annotate(f'Máximo: {valor_maximo}', \n",
    "             xy=(indice_maximo, valor_maximo), \n",
    "             xytext=(indice_maximo, valor_maximo + 10),\n",
    "             arrowprops=dict(facecolor='black', shrink=0.05))\n",
    "ax2.hist(senal_continua[sensor,:], bins=20, color='skyblue', edgecolor='black')\n",
    "ax2.axvline(np.mean(senal_continua[sensor,:]), color='red', linestyle='dashed', linewidth=1, label='Media')\n",
    "ax2.axvline(np.median(senal_continua[sensor,:]), color='green', linestyle='dashed', linewidth=1, label='Mediana')\n",
    "ax2.legend()\n",
    "ax2.set_xlabel('Amplitud')\n",
    "ax2.set_ylabel('Frecuencia')\n",
    "ax2.set_title('Histograma y Medidas de Tendencia Central')\n",
    "plt.legend\n",
    "\n",
    "plt.show\n",
    "\n"
   ]
  },
  {
   "cell_type": "code",
   "execution_count": null,
   "id": "a8838004",
   "metadata": {},
   "outputs": [],
   "source": []
  }
 ],
 "metadata": {
  "kernelspec": {
   "display_name": "Python 3 (ipykernel)",
   "language": "python",
   "name": "python3"
  },
  "language_info": {
   "codemirror_mode": {
    "name": "ipython",
    "version": 3
   },
   "file_extension": ".py",
   "mimetype": "text/x-python",
   "name": "python",
   "nbconvert_exporter": "python",
   "pygments_lexer": "ipython3",
   "version": "3.11.4"
  }
 },
 "nbformat": 4,
 "nbformat_minor": 5
}
